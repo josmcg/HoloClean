{
 "cells": [
  {
   "cell_type": "code",
   "execution_count": 1,
   "metadata": {},
   "outputs": [
    {
     "name": "stderr",
     "output_type": "stream",
     "text": [
      "/Users/joshmcgrath/anaconda2/envs/torch/lib/python2.7/site-packages/psycopg2/__init__.py:144: UserWarning: The psycopg2 wheel package will be renamed from release 2.8; in order to keep installing from binary please use \"pip install psycopg2-binary\" instead. For details see: <http://initd.org/psycopg/docs/install.html#binary-install-from-pypi>.\n",
      "  \"\"\")\n"
     ]
    }
   ],
   "source": [
    "from holoclean.holoclean import HoloClean, Session\n",
    "\n",
    "holo =      HoloClean(\n",
    "            holoclean_path=\"..\",         # path to holoclean package\n",
    "            verbose=True,\n",
    "            # to limit possible values for training data\n",
    "            pruning_threshold1=0.1,\n",
    "            # to limit possible values for training data to less than k values\n",
    "            pruning_clean_breakoff=6,\n",
    "            # to limit possible values for dirty data (applied after\n",
    "            # Threshold 1)\n",
    "            pruning_threshold2=0,\n",
    "            # to limit possible values for dirty data to less than k values\n",
    "            pruning_dk_breakoff=6,\n",
    "            # learning parameters\n",
    "            learning_iterations=30,\n",
    "            learning_rate=0.001,\n",
    "            batch_size=5\n",
    "        )\n",
    "session = Session(holo)"
   ]
  },
  {
   "cell_type": "code",
   "execution_count": 2,
   "metadata": {},
   "outputs": [
    {
     "name": "stdout",
     "output_type": "stream",
     "text": [
      "Time to Load Data: 34.9791038036\n",
      "\n"
     ]
    }
   ],
   "source": [
    "data_path = \"food_input_transf.csv\"\n",
    "data = session.load_data(data_path)"
   ]
  },
  {
   "cell_type": "code",
   "execution_count": 3,
   "metadata": {},
   "outputs": [
    {
     "name": "stdout",
     "output_type": "stream",
     "text": [
      "+--------------------+------------+-------+-----+-------+------------+-----------+--------------+---------------+-------------------+-------+------------+--------------------+--------------------+--------------------+-----+-----+\n",
      "|             akaname|inspectionid|   city|state|results|   longitude|   latitude|inspectiondate|           risk|           location|license|facilitytype|             address|      inspectiontype|             dbaname|  zip|__ind|\n",
      "+--------------------+------------+-------+-----+-------+------------+-----------+--------------+---------------+-------------------+-------+------------+--------------------+--------------------+--------------------+-----+-----+\n",
      "|  sunrise gyros inc.|     1967112|chicago|   il|   pass|-87.65378117|41.74659471|      20161024|risk 2 (medium)|(41.746594707551054|1959206|  restaurant|   8106 s racine ave|           complaint|  sunrise gyros inc.|60620|    1|\n",
      "|taqueria los coma...|     1967089|chicago|   il|   pass|-87.72273813| 41.7830976|      20161024|  risk 1 (high)| (41.78309760160854|  65987|  restaurant|   6035 s pulaski rd|complaint re-insp...|taqueria los coma...|60629|    2|\n",
      "|      renaldis pizza|     1967085|chicago|   il|   pass|-87.64454293|41.93353571|      20161024|  risk 1 (high)|(41.933535705306504|2252464|  restaurant|2827-2831 n broadway|complaint re-insp...|      renaldis pizza|60657|    3|\n",
      "|          j & j fish|     1967062|chicago|   il|   pass|-87.76527467|41.88034981|      20161024|  risk 1 (high)| (41.88034981402218|1300963|  restaurant|   5608 w madison st|complaint re-insp...|          j & j fish|60644|    4|\n",
      "|           mcdonalds|     1967051|chicago|   il|   pass|-87.68301753|41.75093166|      20161024|risk 2 (medium)| (41.75093165729936|1979615|  restaurant|  7832 s western ave|complaint re-insp...|           mcdonalds|60620|    5|\n",
      "+--------------------+------------+-------+-----+-------+------------+-----------+--------------+---------------+-------------------+-------+------------+--------------------+--------------------+--------------------+-----+-----+\n",
      "only showing top 5 rows\n",
      "\n"
     ]
    }
   ],
   "source": [
    "data.show(5)"
   ]
  },
  {
   "cell_type": "code",
   "execution_count": 4,
   "metadata": {},
   "outputs": [
    {
     "name": "stdout",
     "output_type": "stream",
     "text": [
      "root\n",
      " |-- akaname: string (nullable = true)\n",
      " |-- inspectionid: string (nullable = true)\n",
      " |-- city: string (nullable = true)\n",
      " |-- state: string (nullable = true)\n",
      " |-- results: string (nullable = true)\n",
      " |-- longitude: string (nullable = true)\n",
      " |-- latitude: string (nullable = true)\n",
      " |-- inspectiondate: string (nullable = true)\n",
      " |-- risk: string (nullable = true)\n",
      " |-- location: string (nullable = true)\n",
      " |-- license: string (nullable = true)\n",
      " |-- facilitytype: string (nullable = true)\n",
      " |-- address: string (nullable = true)\n",
      " |-- inspectiontype: string (nullable = true)\n",
      " |-- dbaname: string (nullable = true)\n",
      " |-- zip: string (nullable = true)\n",
      " |-- __ind: long (nullable = true)\n",
      "\n"
     ]
    }
   ],
   "source": [
    "data.printSchema()"
   ]
  },
  {
   "cell_type": "markdown",
   "metadata": {},
   "source": [
    "## load DCs"
   ]
  },
  {
   "cell_type": "code",
   "execution_count": 5,
   "metadata": {},
   "outputs": [],
   "source": [
    "dc_path = \"food_constraints.txt\"\n",
    "dcs = session.load_denial_constraints(dc_path)\n"
   ]
  },
  {
   "cell_type": "code",
   "execution_count": 6,
   "metadata": {},
   "outputs": [
    {
     "data": {
      "text/plain": [
       "['t1&t2&EQ(t1.dbaname,t2.dbaname)&EQ(t1.location,t2.location)&IQ(t1.facilitytype,t2.facilitytype)',\n",
       " 't1&t2&EQ(t1.dbaname,t2.dbaname)&EQ(t1.location,t2.location)&IQ(t1.address,t2.address)',\n",
       " 't1&t2&EQ(t1.dbaname,t2.dbaname)&EQ(t1.location,t2.location)&IQ(t1.city,t2.city)',\n",
       " 't1&t2&EQ(t1.dbaname,t2.dbaname)&EQ(t1.location,t2.location)&IQ(t1.state,t2.state)',\n",
       " 't1&t2&EQ(t1.dbaname,t2.dbaname)&EQ(t1.location,t2.location)&IQ(t1.zip,t2.zip)',\n",
       " 't1&t2&EQ(t1.zip,t2.zip)&IQ(t1.state,t2.state)',\n",
       " \"t1&t2&EQ(t1.dbaname,t2.dbaname)&EQ(t1.location,t2.location)&EQ(t1.results,'Out of Business')&LTE(t1.inspectiondate,t2.inspectiondate)\"]"
      ]
     },
     "execution_count": 6,
     "metadata": {},
     "output_type": "execute_result"
    }
   ],
   "source": [
    "dcs"
   ]
  },
  {
   "cell_type": "code",
   "execution_count": 7,
   "metadata": {},
   "outputs": [
    {
     "name": "stdout",
     "output_type": "stream",
     "text": [
      "Time for Error Detection: 170.763827801\n",
      "\n"
     ]
    }
   ],
   "source": [
    "from holoclean.errordetection.sql_dcerrordetector import SqlDCErrorDetection\n",
    "\n",
    "# instantiate Holoclean's built in error detector\n",
    "detector = SqlDCErrorDetection(session)\n",
    "\n",
    "# both clean and dirty sets are returned as pyspark dataframes\n",
    "error_detector_list =[]\n",
    "error_detector_list.append(detector)\n",
    "clean, dirty = session.detect_errors(error_detector_list)"
   ]
  },
  {
   "cell_type": "code",
   "execution_count": 8,
   "metadata": {},
   "outputs": [
    {
     "name": "stdout",
     "output_type": "stream",
     "text": [
      "+---+------------+\n",
      "|ind|        attr|\n",
      "+---+------------+\n",
      "|  8|inspectionid|\n",
      "| 32|facilitytype|\n",
      "| 40|     dbaname|\n",
      "| 69|     license|\n",
      "| 78|       state|\n",
      "+---+------------+\n",
      "only showing top 5 rows\n",
      "\n",
      "+------+--------+\n",
      "|   ind|    attr|\n",
      "+------+--------+\n",
      "| 91507| dbaname|\n",
      "| 91489|    city|\n",
      "|111890|location|\n",
      "| 26602|location|\n",
      "|103701| dbaname|\n",
      "+------+--------+\n",
      "only showing top 5 rows\n",
      "\n"
     ]
    }
   ],
   "source": [
    "clean.show(5)\n",
    "dirty.show(5)"
   ]
  },
  {
   "cell_type": "code",
   "execution_count": 9,
   "metadata": {},
   "outputs": [
    {
     "name": "stdout",
     "output_type": "stream",
     "text": [
      "Time for Domain Pruning: 143.605797052\n",
      "\n",
      "Time for Featurization: 372.22617507\n",
      "\n"
     ]
    },
    {
     "name": "stderr",
     "output_type": "stream",
     "text": [
      "  0%|          | 0/30 [00:00<?, ?it/s]/Users/joshmcgrath/git/holo-george/holoclean/learning/softmax.py:224: UserWarning: invalid index of a 0-dim tensor. This will be an error in PyTorch 0.5. Use tensor.item() to convert a 0-dim tensor to a Python number\n",
      "  return output.data[0]\n",
      "  3%|▎         | 1/30 [00:18<08:50, 18.31s/it]"
     ]
    },
    {
     "name": "stdout",
     "output_type": "stream",
     "text": [
      "Epoch 1, cost = 0.923236, acc = 98.82%\n"
     ]
    },
    {
     "name": "stderr",
     "output_type": "stream",
     "text": [
      "\r",
      "  7%|▋         | 2/30 [00:37<08:40, 18.59s/it]"
     ]
    },
    {
     "name": "stdout",
     "output_type": "stream",
     "text": [
      "Epoch 2, cost = 0.925345, acc = 98.82%\n"
     ]
    },
    {
     "name": "stderr",
     "output_type": "stream",
     "text": [
      "\r",
      " 10%|█         | 3/30 [00:53<08:05, 17.99s/it]"
     ]
    },
    {
     "name": "stdout",
     "output_type": "stream",
     "text": [
      "Epoch 3, cost = 0.925345, acc = 98.82%\n"
     ]
    },
    {
     "name": "stderr",
     "output_type": "stream",
     "text": [
      "\r",
      " 13%|█▎        | 4/30 [01:10<07:36, 17.57s/it]"
     ]
    },
    {
     "name": "stdout",
     "output_type": "stream",
     "text": [
      "Epoch 4, cost = 0.925345, acc = 98.82%\n"
     ]
    },
    {
     "name": "stderr",
     "output_type": "stream",
     "text": [
      "\r",
      " 17%|█▋        | 5/30 [01:26<07:13, 17.33s/it]"
     ]
    },
    {
     "name": "stdout",
     "output_type": "stream",
     "text": [
      "Epoch 5, cost = 0.925345, acc = 98.82%\n"
     ]
    },
    {
     "name": "stderr",
     "output_type": "stream",
     "text": [
      "\r",
      " 20%|██        | 6/30 [01:43<06:52, 17.18s/it]"
     ]
    },
    {
     "name": "stdout",
     "output_type": "stream",
     "text": [
      "Epoch 6, cost = 0.925345, acc = 98.82%\n"
     ]
    },
    {
     "name": "stderr",
     "output_type": "stream",
     "text": [
      "\r",
      " 23%|██▎       | 7/30 [01:59<06:32, 17.06s/it]"
     ]
    },
    {
     "name": "stdout",
     "output_type": "stream",
     "text": [
      "Epoch 7, cost = 0.925345, acc = 98.82%\n"
     ]
    },
    {
     "name": "stderr",
     "output_type": "stream",
     "text": [
      "\r",
      " 27%|██▋       | 8/30 [02:15<06:13, 16.98s/it]"
     ]
    },
    {
     "name": "stdout",
     "output_type": "stream",
     "text": [
      "Epoch 8, cost = 0.925345, acc = 98.82%\n"
     ]
    },
    {
     "name": "stderr",
     "output_type": "stream",
     "text": [
      "\r",
      " 30%|███       | 9/30 [02:32<05:55, 16.91s/it]"
     ]
    },
    {
     "name": "stdout",
     "output_type": "stream",
     "text": [
      "Epoch 9, cost = 0.925345, acc = 98.82%\n"
     ]
    },
    {
     "name": "stderr",
     "output_type": "stream",
     "text": [
      "\r",
      " 33%|███▎      | 10/30 [02:48<05:37, 16.86s/it]"
     ]
    },
    {
     "name": "stdout",
     "output_type": "stream",
     "text": [
      "Epoch 10, cost = 0.925345, acc = 98.82%\n"
     ]
    },
    {
     "name": "stderr",
     "output_type": "stream",
     "text": [
      "\r",
      " 37%|███▋      | 11/30 [03:04<05:19, 16.81s/it]"
     ]
    },
    {
     "name": "stdout",
     "output_type": "stream",
     "text": [
      "Epoch 11, cost = 0.925345, acc = 98.82%\n"
     ]
    },
    {
     "name": "stderr",
     "output_type": "stream",
     "text": [
      "\r",
      " 40%|████      | 12/30 [03:21<05:01, 16.77s/it]"
     ]
    },
    {
     "name": "stdout",
     "output_type": "stream",
     "text": [
      "Epoch 12, cost = 0.925345, acc = 98.82%\n"
     ]
    },
    {
     "name": "stderr",
     "output_type": "stream",
     "text": [
      "\r",
      " 43%|████▎     | 13/30 [03:37<04:44, 16.76s/it]"
     ]
    },
    {
     "name": "stdout",
     "output_type": "stream",
     "text": [
      "Epoch 13, cost = 0.925345, acc = 98.82%\n"
     ]
    },
    {
     "name": "stderr",
     "output_type": "stream",
     "text": [
      "\r",
      " 47%|████▋     | 14/30 [03:54<04:27, 16.73s/it]"
     ]
    },
    {
     "name": "stdout",
     "output_type": "stream",
     "text": [
      "Epoch 14, cost = 0.925345, acc = 98.82%\n"
     ]
    },
    {
     "name": "stderr",
     "output_type": "stream",
     "text": [
      "\r",
      " 50%|█████     | 15/30 [04:10<04:10, 16.71s/it]"
     ]
    },
    {
     "name": "stdout",
     "output_type": "stream",
     "text": [
      "Epoch 15, cost = 0.925345, acc = 98.82%\n"
     ]
    },
    {
     "name": "stderr",
     "output_type": "stream",
     "text": [
      "\r",
      " 53%|█████▎    | 16/30 [04:26<03:53, 16.66s/it]"
     ]
    },
    {
     "name": "stdout",
     "output_type": "stream",
     "text": [
      "Epoch 16, cost = 0.925345, acc = 98.82%\n"
     ]
    },
    {
     "name": "stderr",
     "output_type": "stream",
     "text": [
      "\r",
      " 57%|█████▋    | 17/30 [04:42<03:35, 16.61s/it]"
     ]
    },
    {
     "name": "stdout",
     "output_type": "stream",
     "text": [
      "Epoch 17, cost = 0.925345, acc = 98.82%\n"
     ]
    },
    {
     "name": "stderr",
     "output_type": "stream",
     "text": [
      "\r",
      " 60%|██████    | 18/30 [04:58<03:18, 16.57s/it]"
     ]
    },
    {
     "name": "stdout",
     "output_type": "stream",
     "text": [
      "Epoch 18, cost = 0.925345, acc = 98.82%\n"
     ]
    },
    {
     "name": "stderr",
     "output_type": "stream",
     "text": [
      "\r",
      " 63%|██████▎   | 19/30 [05:14<03:01, 16.53s/it]"
     ]
    },
    {
     "name": "stdout",
     "output_type": "stream",
     "text": [
      "Epoch 19, cost = 0.925345, acc = 98.82%\n"
     ]
    },
    {
     "name": "stderr",
     "output_type": "stream",
     "text": [
      "\r",
      " 67%|██████▋   | 20/30 [05:29<02:44, 16.50s/it]"
     ]
    },
    {
     "name": "stdout",
     "output_type": "stream",
     "text": [
      "Epoch 20, cost = 0.925345, acc = 98.82%\n"
     ]
    },
    {
     "name": "stderr",
     "output_type": "stream",
     "text": [
      "\r",
      " 70%|███████   | 21/30 [05:45<02:28, 16.46s/it]"
     ]
    },
    {
     "name": "stdout",
     "output_type": "stream",
     "text": [
      "Epoch 21, cost = 0.925345, acc = 98.82%\n"
     ]
    },
    {
     "name": "stderr",
     "output_type": "stream",
     "text": [
      "\r",
      " 73%|███████▎  | 22/30 [06:01<02:11, 16.44s/it]"
     ]
    },
    {
     "name": "stdout",
     "output_type": "stream",
     "text": [
      "Epoch 22, cost = 0.925345, acc = 98.82%\n"
     ]
    },
    {
     "name": "stderr",
     "output_type": "stream",
     "text": [
      "\r",
      " 77%|███████▋  | 23/30 [06:17<01:54, 16.41s/it]"
     ]
    },
    {
     "name": "stdout",
     "output_type": "stream",
     "text": [
      "Epoch 23, cost = 0.925345, acc = 98.82%\n"
     ]
    },
    {
     "name": "stderr",
     "output_type": "stream",
     "text": [
      "\r",
      " 80%|████████  | 24/30 [06:33<01:38, 16.41s/it]"
     ]
    },
    {
     "name": "stdout",
     "output_type": "stream",
     "text": [
      "Epoch 24, cost = 0.925345, acc = 98.82%\n"
     ]
    },
    {
     "name": "stderr",
     "output_type": "stream",
     "text": [
      "\r",
      " 83%|████████▎ | 25/30 [06:49<01:21, 16.38s/it]"
     ]
    },
    {
     "name": "stdout",
     "output_type": "stream",
     "text": [
      "Epoch 25, cost = 0.925345, acc = 98.82%\n"
     ]
    },
    {
     "name": "stderr",
     "output_type": "stream",
     "text": [
      "\r",
      " 87%|████████▋ | 26/30 [07:05<01:05, 16.37s/it]"
     ]
    },
    {
     "name": "stdout",
     "output_type": "stream",
     "text": [
      "Epoch 26, cost = 0.925345, acc = 98.82%\n"
     ]
    },
    {
     "name": "stderr",
     "output_type": "stream",
     "text": [
      "\r",
      " 90%|█████████ | 27/30 [07:21<00:49, 16.35s/it]"
     ]
    },
    {
     "name": "stdout",
     "output_type": "stream",
     "text": [
      "Epoch 27, cost = 0.925345, acc = 98.82%\n"
     ]
    },
    {
     "name": "stderr",
     "output_type": "stream",
     "text": [
      "\r",
      " 93%|█████████▎| 28/30 [07:37<00:32, 16.33s/it]"
     ]
    },
    {
     "name": "stdout",
     "output_type": "stream",
     "text": [
      "Epoch 28, cost = 0.925345, acc = 98.82%\n"
     ]
    },
    {
     "name": "stderr",
     "output_type": "stream",
     "text": [
      "\r",
      " 97%|█████████▋| 29/30 [07:53<00:16, 16.31s/it]"
     ]
    },
    {
     "name": "stdout",
     "output_type": "stream",
     "text": [
      "Epoch 29, cost = 0.925345, acc = 98.82%\n"
     ]
    },
    {
     "name": "stderr",
     "output_type": "stream",
     "text": [
      "\r",
      "100%|██████████| 30/30 [08:08<00:00, 16.30s/it]"
     ]
    },
    {
     "name": "stdout",
     "output_type": "stream",
     "text": [
      "Epoch 30, cost = 0.925345, acc = 98.82%\n"
     ]
    },
    {
     "name": "stderr",
     "output_type": "stream",
     "text": [
      "\n"
     ]
    },
    {
     "name": "stdout",
     "output_type": "stream",
     "text": [
      "Time for Training Model: 506.181448936\n",
      "\n",
      "Time for Test Featurization: 0.181910991669\n",
      "\n",
      "Time for Inference: 20.8748679161\n",
      "\n"
     ]
    },
    {
     "name": "stderr",
     "output_type": "stream",
     "text": [
      "/Users/joshmcgrath/git/holo-george/holoclean/learning/softmax.py:420: UserWarning: invalid index of a 0-dim tensor. This will be an error in PyTorch 0.5. Use tensor.item() to convert a 0-dim tensor to a Python number\n",
      "  msg = \"Feature \" + str(count) + \": \" + str(weight[0].data[0])\n"
     ]
    }
   ],
   "source": [
    "repaired = session.repair()"
   ]
  },
  {
   "cell_type": "code",
   "execution_count": 10,
   "metadata": {},
   "outputs": [
    {
     "name": "stdout",
     "output_type": "stream",
     "text": [
      "We have detected 356 errors out of 366 total\n",
      "The top-1 precision  is : 0.761\n",
      "The top-1 recall is : 0.643 over the 356 errors found during error detection\n"
     ]
    }
   ],
   "source": [
    "session.compare_to_truth(\"../food_data/food_clean_transform.csv\")"
   ]
  },
  {
   "cell_type": "code",
   "execution_count": 14,
   "metadata": {},
   "outputs": [
    {
     "name": "stdout",
     "output_type": "stream",
     "text": [
      "+-----+--------------------+------------+-------+-----+-------+------------+-----------+--------------+---------------+-------------------+-------+------------+--------------------+--------------------+--------------------+-----+\n",
      "|index|             akaname|inspectionid|   City|State|Results|   longitude|   latitude|InspectionDate|           risk|           Location|license|FacilityType|             Address|      inspectiontype|             DBAName|  Zip|\n",
      "+-----+--------------------+------------+-------+-----+-------+------------+-----------+--------------+---------------+-------------------+-------+------------+--------------------+--------------------+--------------------+-----+\n",
      "|    1|  sunrise gyros inc.|     1967112|chicago|   il|   pass|-87.65378117|41.74659471|      20161024|risk 2 (medium)|(41.746594707551054|1959206|  restaurant|   8106 s racine ave|           complaint|  sunrise gyros inc.|60620|\n",
      "|    2|taqueria los coma...|     1967089|chicago|   il|   pass|-87.72273813| 41.7830976|      20161024|  risk 1 (high)| (41.78309760160854|  65987|  restaurant|   6035 s pulaski rd|complaint re-insp...|taqueria los coma...|60629|\n",
      "|    3|      renaldis pizza|     1967085|chicago|   il|   pass|-87.64454293|41.93353571|      20161024|  risk 1 (high)|(41.933535705306504|2252464|  restaurant|2827-2831 n broadway|complaint re-insp...|      renaldis pizza|60657|\n",
      "|    4|          j & j fish|     1967062|chicago|   il|   pass|-87.76527467|41.88034981|      20161024|  risk 1 (high)| (41.88034981402218|1300963|  restaurant|   5608 w madison st|complaint re-insp...|          j & j fish|60644|\n",
      "+-----+--------------------+------------+-------+-----+-------+------------+-----------+--------------+---------------+-------------------+-------+------------+--------------------+--------------------+--------------------+-----+\n",
      "only showing top 4 rows\n",
      "\n"
     ]
    }
   ],
   "source": [
    "s"
   ]
  },
  {
   "cell_type": "code",
   "execution_count": null,
   "metadata": {},
   "outputs": [],
   "source": [
    "session.holo_env.dataengine.db_backend[1].rollback()"
   ]
  },
  {
   "cell_type": "code",
   "execution_count": null,
   "metadata": {},
   "outputs": [],
   "source": []
  }
 ],
 "metadata": {
  "kernelspec": {
   "display_name": "Python 2",
   "language": "python",
   "name": "python2"
  },
  "language_info": {
   "codemirror_mode": {
    "name": "ipython",
    "version": 2
   },
   "file_extension": ".py",
   "mimetype": "text/x-python",
   "name": "python",
   "nbconvert_exporter": "python",
   "pygments_lexer": "ipython2",
   "version": "2.7.15"
  }
 },
 "nbformat": 4,
 "nbformat_minor": 2
}
